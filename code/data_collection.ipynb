{
 "cells": [
  {
   "cell_type": "markdown",
   "id": "7bb12a71-e93c-4570-b79c-b08cdc7c609f",
   "metadata": {},
   "source": [
    "# Data Collection\n",
    "\n",
    "This notebook does all data collection for the thesis project"
   ]
  },
  {
   "cell_type": "markdown",
   "id": "52486965-7859-4656-91e3-25e14735677f",
   "metadata": {},
   "source": [
    "## COVID-19 Data RIVM"
   ]
  },
  {
   "cell_type": "code",
   "execution_count": null,
   "id": "5d748762-7e5b-470d-9728-66760781780f",
   "metadata": {},
   "outputs": [],
   "source": [
    "import requests, re\n",
    "from bs4 import BeautifulSoup\n",
    "from pprint import pprint"
   ]
  },
  {
   "cell_type": "code",
   "execution_count": null,
   "id": "67fdec1d-9e1a-405f-b1cc-613b87c50f25",
   "metadata": {},
   "outputs": [],
   "source": [
    "# Scraping all URL's on RIVM\n",
    "base_url = 'https://data.rivm.nl/covid-19/'\n",
    "response = requests.get(base_url)\n",
    "soup = BeautifulSoup(response.text, 'html.parser')\n",
    "pat = re.compile(r'COVID\\-19.+\\.csv')\n",
    "csv_anchors = soup.find_all('a', href=pat)\n",
    "csv_urls = [{'file_name':_.get('href'), 'url':f\"{base_url}{_.get('href')}\"} for _ in csv_anchors]\n",
    "pprint(csv_urls)"
   ]
  },
  {
   "cell_type": "code",
   "execution_count": null,
   "id": "899079e2-0450-47ed-b462-2553e2d27c55",
   "metadata": {},
   "outputs": [],
   "source": [
    "data_dir = '../data/rivm/'\n",
    "for csv_url in csv_urls:\n",
    "    dest_file = f\"{data_dir}{csv_url['file_name']}\"\n",
    "    print(f\"Downloading file {csv_url['file_name']} into {data_dir}\")\n",
    "    with open(dest_file, 'wb') as file_obj:\n",
    "        file_obj.write(requests.get(csv_url['url']).content)"
   ]
  },
  {
   "cell_type": "markdown",
   "id": "33bcf9d9-3a49-4464-a45d-7eb3c20e8d4c",
   "metadata": {},
   "source": [
    "### Compressing files\n",
    "\n",
    "As the data is provided as CSV, this has a significantly larger filesize. We will 'compress' the files to parquet to save storage."
   ]
  },
  {
   "cell_type": "code",
   "execution_count": null,
   "id": "7d529c86-04d0-44e1-af93-3d06fcfc737c",
   "metadata": {},
   "outputs": [],
   "source": [
    "import pandas as pd\n",
    "import os"
   ]
  },
  {
   "cell_type": "code",
   "execution_count": null,
   "id": "cace814d-a318-4f58-8179-98aaa64a262d",
   "metadata": {},
   "outputs": [],
   "source": [
    "data_dir = '../data/rivm/'\n",
    "for file_name in os.listdir(data_dir):\n",
    "    if '.csv' in file_name:\n",
    "        print(f\"Compressing {file_name} to parquet\")\n",
    "        data = pd.read_csv(f\"{data_dir}/{file_name}\", sep=\";\")\n",
    "        data.to_parquet(f\"{data_dir}/{file_name[:-4]}.parquet\")"
   ]
  },
  {
   "cell_type": "code",
   "execution_count": null,
   "id": "aa86ef6b-dfd2-4955-a1d9-bcccb51f6b1a",
   "metadata": {},
   "outputs": [],
   "source": [
    "import shutil\n",
    "shutil.make_archive('../data/rivm', 'zip', '../data/rivm/')"
   ]
  },
  {
   "cell_type": "code",
   "execution_count": null,
   "id": "4c5869cc-eb28-4c5e-8505-6cfe5b0011a7",
   "metadata": {},
   "outputs": [],
   "source": [
    "for file_name in os.listdir(data_dir):\n",
    "    if '.csv' in file_name:\n",
    "        os.remove(f\"{data_dir}/{file_name}\")"
   ]
  },
  {
   "cell_type": "markdown",
   "id": "84672a6d-02d5-48f0-9009-f1cb357f5b11",
   "metadata": {},
   "source": [
    "## Get AMS stock pricing history"
   ]
  },
  {
   "cell_type": "code",
   "execution_count": null,
   "id": "24953afb-ac76-4d57-b468-f2059f6c3108",
   "metadata": {},
   "outputs": [],
   "source": [
    "api_key = \"\"\n",
    "index_code = \"AMS\"\n",
    "base_url = \"https://financialmodelingprep.com/api/v3/historical-price-full/\"\n",
    "full_url = f\"{base_url}/{index_code}?apikey={apikey}\"\n",
    "response = requests.get(full_url)"
   ]
  },
  {
   "cell_type": "code",
   "execution_count": null,
   "id": "e1bb2392-d334-419a-a988-aced20338dde",
   "metadata": {},
   "outputs": [],
   "source": [
    "ams_data = pd.DataFrame(response.json()['historical'])\n",
    "ams_data.to_csv('../data/stockmarkets/AMS.csv')\n",
    "ams_data.to_parquet('../data/stockmarkets/AMS.parquet')"
   ]
  },
  {
   "cell_type": "code",
   "execution_count": null,
   "id": "c6720b88-90ee-48fb-bc4f-ddc057d7ec41",
   "metadata": {},
   "outputs": [],
   "source": [
    "display(ams_data)"
   ]
  },
  {
   "cell_type": "markdown",
   "id": "a177d8a3-2b7e-470b-9f50-d0ac86c59be3",
   "metadata": {},
   "source": [
    "## John Hopkins"
   ]
  },
  {
   "cell_type": "code",
   "execution_count": null,
   "id": "28779728-b096-4f03-b680-49c8eb3e1002",
   "metadata": {},
   "outputs": [],
   "source": [
    "!git clone https://github.com/govex/COVID-19.git ../data/govex/"
   ]
  }
 ],
 "metadata": {
  "kernelspec": {
   "display_name": "thesis",
   "language": "python",
   "name": "thesis"
  },
  "language_info": {
   "codemirror_mode": {
    "name": "ipython",
    "version": 3
   },
   "file_extension": ".py",
   "mimetype": "text/x-python",
   "name": "python",
   "nbconvert_exporter": "python",
   "pygments_lexer": "ipython3",
   "version": "3.9.7"
  }
 },
 "nbformat": 4,
 "nbformat_minor": 5
}
